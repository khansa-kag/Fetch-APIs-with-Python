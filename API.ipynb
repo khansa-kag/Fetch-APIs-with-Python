{
 "cells": [
  {
   "cell_type": "code",
   "execution_count": 1,
   "id": "88f1f161-98ad-42ac-ae24-c6450cacfa54",
   "metadata": {},
   "outputs": [],
   "source": [
    "#Install request \n",
    "#pips install requests "
   ]
  },
  {
   "cell_type": "code",
   "execution_count": 2,
   "id": "3d8e15c9-e6ae-4fde-a593-aeda02db05a3",
   "metadata": {},
   "outputs": [],
   "source": [
    "# Import request\n",
    "import pandas as pd\n",
    "import requests"
   ]
  },
  {
   "cell_type": "code",
   "execution_count": 3,
   "id": "69239ba2-f826-4272-a928-2287afabd640",
   "metadata": {},
   "outputs": [],
   "source": [
    "#This will connect with API and store extracted data in response variable\n",
    "response = requests.get('https://randomuser.me/api')"
   ]
  },
  {
   "cell_type": "code",
   "execution_count": 4,
   "id": "e4daf266-f9ff-4f0d-a206-f4c5ee851ceb",
   "metadata": {},
   "outputs": [
    {
     "name": "stdout",
     "output_type": "stream",
     "text": [
      "200\n"
     ]
    }
   ],
   "source": [
    "# In order to check our app (python) is connected or not with API, we used the print and if it will shows 200 it means it is connected else not. \n",
    "print (response.status_code)"
   ]
  },
  {
   "cell_type": "code",
   "execution_count": 13,
   "id": "fa4d2952-1983-4a0d-a1b0-19c4f20734c7",
   "metadata": {},
   "outputs": [
    {
     "name": "stdout",
     "output_type": "stream",
     "text": [
      "{'results': [{'gender': 'female', 'name': {'title': 'Mrs', 'first': 'Amelia', 'last': 'Collazo'}, 'location': {'street': {'number': 5404, 'name': 'Peatonal Norte Santana'}, 'city': 'Jurica (Ex-Hacienda)', 'state': 'Campeche', 'country': 'Mexico', 'postcode': 14413, 'coordinates': {'latitude': '24.3911', 'longitude': '86.8636'}, 'timezone': {'offset': '+3:30', 'description': 'Tehran'}}, 'email': 'amelia.collazo@example.com', 'login': {'uuid': '13898b61-02b6-4c12-aef8-cd50af590dbd', 'username': 'lazyrabbit840', 'password': 'warthog', 'salt': 'kUzYeki6', 'md5': '9fec27109d6e9a54f1b0295b2a0b82c5', 'sha1': '5f4e7a2881792bfd27574d02134abd6752556207', 'sha256': '79afe3767f56dd7e954bea04cef904b4857037c43864b064df3984fd5c3d591e'}, 'dob': {'date': '1963-05-24T09:16:28.929Z', 'age': 61}, 'registered': {'date': '2002-08-06T03:44:55.151Z', 'age': 21}, 'phone': '(693) 508 7898', 'cell': '(653) 990 7535', 'id': {'name': 'NSS', 'value': '10 77 15 2053 3'}, 'picture': {'large': 'https://randomuser.me/api/portraits/women/64.jpg', 'medium': 'https://randomuser.me/api/portraits/med/women/64.jpg', 'thumbnail': 'https://randomuser.me/api/portraits/thumb/women/64.jpg'}, 'nat': 'MX'}], 'info': {'seed': '06fed79213a39a59', 'results': 1, 'page': 1, 'version': '1.4'}}\n"
     ]
    }
   ],
   "source": [
    "# print out data in json. This will return the data in json format. \n",
    "data = print (response.json())"
   ]
  },
  {
   "cell_type": "markdown",
   "id": "55c29a5e-5d50-4226-abfa-6c323bc54426",
   "metadata": {},
   "source": [
    "# store and access the data. "
   ]
  },
  {
   "cell_type": "code",
   "execution_count": 6,
   "id": "5fef39bd-e0a5-4a74-92ff-2d5838bc9181",
   "metadata": {},
   "outputs": [
    {
     "name": "stdout",
     "output_type": "stream",
     "text": [
      "female\n"
     ]
    }
   ],
   "source": [
    "\n",
    "gender = response.json()['results'][0]['gender']\n",
    "print (gender)"
   ]
  },
  {
   "cell_type": "code",
   "execution_count": 7,
   "id": "40a25bee-951b-494c-b5a0-ee9a57f4ade8",
   "metadata": {},
   "outputs": [
    {
     "name": "stdout",
     "output_type": "stream",
     "text": [
      "Amelia\n"
     ]
    }
   ],
   "source": [
    "first_name = response.json()['results'][0]['name']['first']\n",
    "print (first_name)"
   ]
  },
  {
   "cell_type": "code",
   "execution_count": 8,
   "id": "9a0ca38c-8ead-4225-8288-1e61cc80caa5",
   "metadata": {},
   "outputs": [
    {
     "name": "stdout",
     "output_type": "stream",
     "text": [
      "Collazo\n"
     ]
    }
   ],
   "source": [
    "last_name = response.json()['results'][0]['name']['last']\n",
    "print (last_name)"
   ]
  },
  {
   "cell_type": "code",
   "execution_count": 9,
   "id": "906050e5-e2eb-4a74-b82b-ed7b9925ac19",
   "metadata": {},
   "outputs": [
    {
     "name": "stdout",
     "output_type": "stream",
     "text": [
      "Amelia Collazo\n"
     ]
    }
   ],
   "source": [
    "set1= print(f'{first_name} {last_name}')"
   ]
  },
  {
   "cell_type": "code",
   "execution_count": 10,
   "id": "f2680412-e9d3-4af4-8f1d-68329ad1ac85",
   "metadata": {},
   "outputs": [
    {
     "name": "stdout",
     "output_type": "stream",
     "text": [
      "Mrs\n"
     ]
    }
   ],
   "source": [
    "title_name = response.json()['results'][0]['name']['title']\n",
    "print (title_name)"
   ]
  },
  {
   "cell_type": "code",
   "execution_count": 11,
   "id": "358475c2-ae6a-469f-9f42-d33a23afbcd2",
   "metadata": {},
   "outputs": [
    {
     "name": "stdout",
     "output_type": "stream",
     "text": [
      "Mrs. Amelia Collazo \n"
     ]
    }
   ],
   "source": [
    "set2 = print(f'{title_name}. {first_name} {last_name} ')"
   ]
  },
  {
   "cell_type": "code",
   "execution_count": 12,
   "id": "96231c56-fb1a-4aa9-998a-f7a4a0b0b35a",
   "metadata": {},
   "outputs": [
    {
     "name": "stdout",
     "output_type": "stream",
     "text": [
      "Age: 61\n"
     ]
    }
   ],
   "source": [
    "age = response.json()['results'][0]['dob']['age']\n",
    "print (f'Age: {age}')"
   ]
  },
  {
   "cell_type": "code",
   "execution_count": 16,
   "id": "3ca64d83-5cab-4666-b059-ae8e81433684",
   "metadata": {},
   "outputs": [],
   "source": [
    "data1 = {\n",
    "    'Gender': [gender],\n",
    "    'First Name': [first_name],\n",
    "    'Last Name': [last_name],\n",
    "    'Title': [title_name],\n",
    "    'Age': [age]\n",
    "}\n"
   ]
  },
  {
   "cell_type": "code",
   "execution_count": 17,
   "id": "6d89b057-9439-4ea0-b31e-b068fcde7b73",
   "metadata": {},
   "outputs": [],
   "source": [
    "df = pd.DataFrame(data1)"
   ]
  },
  {
   "cell_type": "code",
   "execution_count": 18,
   "id": "6acb6833-4b08-4b49-a0d2-fc210ff1969c",
   "metadata": {},
   "outputs": [
    {
     "name": "stdout",
     "output_type": "stream",
     "text": [
      "   Gender First Name Last Name Title  Age\n",
      "0  female     Amelia   Collazo   Mrs   61\n"
     ]
    }
   ],
   "source": [
    "print(df)"
   ]
  },
  {
   "cell_type": "code",
   "execution_count": 19,
   "id": "8fbc1fcb-bbd0-4986-a80e-0b2a668b91d3",
   "metadata": {},
   "outputs": [],
   "source": [
    "#Export into excel\n",
    "df.to_excel('output.xlsx', index=False)"
   ]
  }
 ],
 "metadata": {
  "kernelspec": {
   "display_name": "Python 3 (ipykernel)",
   "language": "python",
   "name": "python3"
  },
  "language_info": {
   "codemirror_mode": {
    "name": "ipython",
    "version": 3
   },
   "file_extension": ".py",
   "mimetype": "text/x-python",
   "name": "python",
   "nbconvert_exporter": "python",
   "pygments_lexer": "ipython3",
   "version": "3.12.4"
  }
 },
 "nbformat": 4,
 "nbformat_minor": 5
}
